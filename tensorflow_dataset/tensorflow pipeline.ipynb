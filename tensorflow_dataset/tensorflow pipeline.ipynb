{
 "cells": [
  {
   "cell_type": "code",
   "execution_count": 1,
   "id": "initial_id",
   "metadata": {
    "collapsed": true,
    "ExecuteTime": {
     "end_time": "2024-04-06T12:34:47.403501Z",
     "start_time": "2024-04-06T12:34:44.927016Z"
    }
   },
   "outputs": [],
   "source": [
    "#this notebook have demostration of how you can import data and use it to train a model\n",
    "#using tensorflow dataset datatype (tf.data.dataset)\n",
    "import tensorflow as tf"
   ]
  },
  {
   "cell_type": "code",
   "outputs": [],
   "source": [
    "#list file function is able to  import multiple file from a directory\n",
    "#it will return a list of file path\n",
    "review_ds = tf.data.Dataset.list_files(\"reviews/*/*.txt\", shuffle=False)"
   ],
   "metadata": {
    "collapsed": false,
    "ExecuteTime": {
     "end_time": "2024-04-06T11:30:35.044862Z",
     "start_time": "2024-04-06T11:30:35.023239Z"
    }
   },
   "id": "cdd3cdc189b1b8c7",
   "execution_count": 7
  },
  {
   "cell_type": "code",
   "outputs": [
    {
     "name": "stdout",
     "output_type": "stream",
     "text": [
      "b'reviews\\\\negetive\\\\neg_1.txt'\n",
      "b'reviews\\\\negetive\\\\neg_2.txt'\n",
      "b'reviews\\\\negetive\\\\neg_3.txt'\n",
      "b'reviews\\\\positive\\\\pos_1.txt'\n",
      "b'reviews\\\\positive\\\\pos_2.txt'\n"
     ]
    }
   ],
   "source": [
    "for file in review_ds.take(5):\n",
    "    print(file.numpy())"
   ],
   "metadata": {
    "collapsed": false,
    "ExecuteTime": {
     "end_time": "2024-04-06T11:31:39.139425Z",
     "start_time": "2024-04-06T11:31:39.114338Z"
    }
   },
   "id": "74bfdc95899074cd",
   "execution_count": 10
  },
  {
   "cell_type": "code",
   "outputs": [],
   "source": [
    "import os \n",
    "def extract_review_and_label(file_path):\n",
    "    return tf.io.read_file(file_path),tf.strings.split(file_path,os.path.sep)[-2]"
   ],
   "metadata": {
    "collapsed": false,
    "ExecuteTime": {
     "end_time": "2024-04-06T11:33:59.999825Z",
     "start_time": "2024-04-06T11:33:59.995617Z"
    }
   },
   "id": "630538e253f79657",
   "execution_count": 11
  },
  {
   "cell_type": "code",
   "outputs": [
    {
     "name": "stdout",
     "output_type": "stream",
     "text": [
      "review :  b\"Basically there's a family where a little boy (Jak\"\n",
      "numpy :  b'negetive'\n",
      "review :  b'This show was an amazing, fresh & innovative idea '\n",
      "numpy :  b'negetive'\n",
      "review :  b''\n",
      "numpy :  b'negetive'\n",
      "review :  b'One of the other reviewers has mentioned that afte'\n",
      "numpy :  b'positive'\n",
      "review :  b'A wonderful little production. <br /><br />The fil'\n",
      "numpy :  b'positive'\n",
      "review :  b''\n",
      "numpy :  b'positive'\n"
     ]
    }
   ],
   "source": [
    "review_ds_1 = review_ds.map(extract_review_and_label)\n",
    "for review,label in review_ds_1:\n",
    "    print(\"review : \",review.numpy()[:50])\n",
    "    print(\"numpy : \",label.numpy())"
   ],
   "metadata": {
    "collapsed": false,
    "ExecuteTime": {
     "end_time": "2024-04-06T11:37:44.734142Z",
     "start_time": "2024-04-06T11:37:44.667286Z"
    }
   },
   "id": "589e6e78f6ae1aea",
   "execution_count": 17
  },
  {
   "cell_type": "code",
   "outputs": [
    {
     "name": "stdout",
     "output_type": "stream",
     "text": [
      "review :  b\"Basically there's a family where a little boy (Jak\"\n",
      "numpy :  b'negetive'\n",
      "review :  b'This show was an amazing, fresh & innovative idea '\n",
      "numpy :  b'negetive'\n",
      "review :  b'One of the other reviewers has mentioned that afte'\n",
      "numpy :  b'positive'\n",
      "review :  b'A wonderful little production. <br /><br />The fil'\n",
      "numpy :  b'positive'\n"
     ]
    }
   ],
   "source": [
    "#Filter blank review\n",
    "review_ds_2 = review_ds_1.filter(lambda review, label:review!=\"\")\n",
    "for review,label in review_ds_2:\n",
    "    print(\"review : \",review.numpy()[:50])\n",
    "    print(\"numpy : \",label.numpy())"
   ],
   "metadata": {
    "collapsed": false,
    "ExecuteTime": {
     "end_time": "2024-04-06T11:40:06.109731Z",
     "start_time": "2024-04-06T11:40:06.050651Z"
    }
   },
   "id": "57eaba54e91ea5cd",
   "execution_count": 18
  },
  {
   "cell_type": "code",
   "outputs": [
    {
     "name": "stdout",
     "output_type": "stream",
     "text": [
      "reviews :  b'This show was an amazing, fresh & innovative idea '\n",
      "label :  b'negetive'\n",
      "reviews :  b\"Basically there's a family where a little boy (Jak\"\n",
      "label :  b'negetive'\n",
      "reviews :  b'One of the other reviewers has mentioned that afte'\n",
      "label :  b'positive'\n",
      "reviews :  b'A wonderful little production. <br /><br />The fil'\n",
      "label :  b'positive'\n"
     ]
    }
   ],
   "source": [
    "final_ds = review_ds.map(extract_review_and_label).filter(lambda review, label:review!=\"\").shuffle(3)\n",
    "for review,label in final_ds.as_numpy_iterator():\n",
    "    print(\"reviews : \",review[:50])\n",
    "    print(\"label : \",label)\n"
   ],
   "metadata": {
    "collapsed": false,
    "ExecuteTime": {
     "end_time": "2024-04-06T11:44:02.232211Z",
     "start_time": "2024-04-06T11:44:02.143710Z"
    }
   },
   "id": "b7d5930290a583fc",
   "execution_count": 22
  },
  {
   "cell_type": "code",
   "outputs": [
    {
     "data": {
      "text/plain": "'\\nfrom there  tensorflow dataset you can use it to train a model\\n'"
     },
     "execution_count": 23,
     "metadata": {},
     "output_type": "execute_result"
    }
   ],
   "source": [
    "\"\"\"\n",
    "from there  tensorflow dataset you can use it to train a model\n",
    "\"\"\""
   ],
   "metadata": {
    "collapsed": false,
    "ExecuteTime": {
     "end_time": "2024-04-06T11:45:10.041314Z",
     "start_time": "2024-04-06T11:45:10.024145Z"
    }
   },
   "id": "82cdc171fb97e0b5",
   "execution_count": 23
  },
  {
   "cell_type": "code",
   "outputs": [],
   "source": [],
   "metadata": {
    "collapsed": false
   },
   "id": "7e292e13c0a6e0b2"
  }
 ],
 "metadata": {
  "kernelspec": {
   "display_name": "Python 3",
   "language": "python",
   "name": "python3"
  },
  "language_info": {
   "codemirror_mode": {
    "name": "ipython",
    "version": 2
   },
   "file_extension": ".py",
   "mimetype": "text/x-python",
   "name": "python",
   "nbconvert_exporter": "python",
   "pygments_lexer": "ipython2",
   "version": "2.7.6"
  }
 },
 "nbformat": 4,
 "nbformat_minor": 5
}
